{
  "nbformat": 4,
  "nbformat_minor": 0,
  "metadata": {
    "colab": {
      "name": "Phat sinh data.ipynb",
      "provenance": [],
      "authorship_tag": "ABX9TyNgJrpAHhiirHXr2kNwVBkb",
      "include_colab_link": true
    },
    "kernelspec": {
      "name": "python3",
      "display_name": "Python 3"
    }
  },
  "cells": [
    {
      "cell_type": "markdown",
      "metadata": {
        "id": "view-in-github",
        "colab_type": "text"
      },
      "source": [
        "<a href=\"https://colab.research.google.com/github/huynhtuan0701/CS112.L11/blob/main/Phat_sinh_data.ipynb\" target=\"_parent\"><img src=\"https://colab.research.google.com/assets/colab-badge.svg\" alt=\"Open In Colab\"/></a>"
      ]
    },
    {
      "cell_type": "code",
      "metadata": {
        "id": "OhmsPhx58Xd0",
        "outputId": "92dac535-ecd6-4874-c791-0aced24db536",
        "colab": {
          "base_uri": "https://localhost:8080/",
          "height": 941
        }
      },
      "source": [
        "import time\n",
        "import csv\n",
        "import random\n",
        "\n",
        "def NumOfExec_interchangeSort(Arr):\n",
        "  count = 0\n",
        "  # khởi tạo i\n",
        "  count += 1\n",
        "  for i in range(len(Arr)-1):\n",
        "    # kiểm tra điều kiện\n",
        "    count += 2\n",
        "    # khởi tạo j\n",
        "    count += 2\n",
        "    for j in range(i+1,len(Arr)):\n",
        "      # kiểm tra điều kiện\n",
        "      count += 2\n",
        "      # kiểm tra điều kiện if\n",
        "      count += 1\n",
        "      if (Arr[i] > Arr[j]):\n",
        "      #   # phép gán\n",
        "        temp = Arr[i]\n",
        "        Arr[i] = Arr[j]\n",
        "        Arr[j] = temp\n",
        "        count += 3\n",
        "      # phép tăng j\n",
        "      count += 1\n",
        "    # kiểm tra dk lần cuối của for_j và tăng i\n",
        "    count += 3\n",
        "  # kiểm tra dk lần cuối của for_i\n",
        "  count += 2\n",
        "  return count\n",
        "\n",
        "n = 269\n",
        "\n",
        "data = []\n",
        "count = 0\n",
        "while(n < 50000 and count <= 10**18):\n",
        "  Arr = random.sample(range(10**18), n)\n",
        "  count = NumOfExec_interchangeSort(Arr)\n",
        "  data.append([n,count])\n",
        "  print(n,',',count)\n",
        "  n = int(n*1.1)\n",
        "\n",
        "\n",
        "#print(data)\n",
        "\n",
        "with open('test.csv', 'w') as f:\n",
        "  wtr = csv.writer(f, delimiter= \",\")\n",
        "  wtr.writerow([\"n\",\"t(n)\"])\n",
        "  wtr.writerows(data)"
      ],
      "execution_count": 15,
      "outputs": [
        {
          "output_type": "stream",
          "text": [
            "269 , 200363\n",
            "295 , 240633\n",
            "324 , 292454\n",
            "356 , 348185\n",
            "391 , 426456\n",
            "430 , 517377\n",
            "473 , 611393\n",
            "520 , 749247\n",
            "572 , 897392\n",
            "629 , 1105592\n",
            "691 , 1330395\n",
            "760 , 1578192\n",
            "836 , 1929080\n",
            "919 , 2343066\n",
            "1010 , 2807678\n",
            "1111 , 3397371\n",
            "1222 , 4132581\n",
            "1344 , 4994411\n",
            "1478 , 6046883\n",
            "1625 , 7255727\n",
            "1787 , 8822435\n",
            "1965 , 10632629\n",
            "2161 , 12837684\n",
            "2377 , 15509553\n",
            "2614 , 18813408\n",
            "2875 , 22731297\n",
            "3162 , 27526691\n",
            "3478 , 33235851\n",
            "3825 , 40344203\n",
            "4207 , 48806622\n",
            "4627 , 58822305\n",
            "5089 , 71185782\n",
            "5597 , 86224901\n",
            "6156 , 104562410\n",
            "6771 , 126033377\n",
            "7448 , 151997954\n",
            "8192 , 184905581\n",
            "9011 , 222852698\n",
            "9912 , 270104432\n",
            "10903 , 326830038\n",
            "11993 , 395776454\n",
            "13192 , 479301939\n",
            "14511 , 578896592\n",
            "15962 , 701626214\n",
            "17558 , 848524889\n",
            "19313 , 1026325181\n",
            "21244 , 1242360123\n",
            "23368 , 1501417029\n",
            "25704 , 1816079321\n",
            "28274 , 2200093853\n",
            "31101 , 2660052551\n",
            "34211 , 3217981688\n",
            "37632 , 3893701232\n",
            "41395 , 4718853204\n",
            "45534 , 5705742971\n"
          ],
          "name": "stdout"
        }
      ]
    },
    {
      "cell_type": "code",
      "metadata": {
        "id": "Su3mn1hTV4jo",
        "outputId": "705def25-dd15-4a90-c00a-999ec2b771c7",
        "colab": {
          "base_uri": "https://localhost:8080/",
          "height": 34
        }
      },
      "source": [
        "from google.colab import drive\n",
        "drive.mount('/content/drive')"
      ],
      "execution_count": 17,
      "outputs": [
        {
          "output_type": "stream",
          "text": [
            "Mounted at /content/drive\n"
          ],
          "name": "stdout"
        }
      ]
    }
  ]
}